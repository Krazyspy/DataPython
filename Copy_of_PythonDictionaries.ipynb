{
  "cells": [
    {
      "cell_type": "markdown",
      "metadata": {
        "id": "view-in-github",
        "colab_type": "text"
      },
      "source": [
        "<a href=\"https://colab.research.google.com/github/Krazyspy/DataPython/blob/main/Copy_of_PythonDictionaries.ipynb\" target=\"_parent\"><img src=\"https://colab.research.google.com/assets/colab-badge.svg\" alt=\"Open In Colab\"/></a>"
      ]
    },
    {
      "cell_type": "markdown",
      "metadata": {
        "id": "Vvcpt-18AqVE"
      },
      "source": [
        "<a href=\"https://colab.research.google.com/github/StefanMeyer7/Python-Fundamentals/blob/main/PythonDictionaries.ipynb\" target=\"_parent\"><img src=\"https://colab.research.google.com/assets/colab-badge.svg\" alt=\"Open In Colab\"/></a>"
      ]
    },
    {
      "cell_type": "markdown",
      "metadata": {
        "id": "ajVrvblzd9wB"
      },
      "source": [
        "# Dictionaries\n",
        "\n",
        "---\n",
        "\n",
        "A **dictionary** is a collection of dissimilar data stored together in one *record*. Each item of data has a  (or key) that describes its paired value.  \n",
        "\n",
        "Create a dictionary object by declaring the set of keys and values, e.g.:\n",
        "\n",
        "```\n",
        "   transport = {\n",
        "       \"type\":\"bus\",\n",
        "       \"numPassengers\":72,\n",
        "       \"colour\":\"blue\",\n",
        "       \"fuel\":\"diesel\"\n",
        "   }\n",
        "```\n",
        "\n",
        "To access a value in a dictionary, use its key:  \n",
        "\n",
        "```\n",
        "transport[\"type\"] = \"coach\"\n",
        "transport_type = transport[\"type\"]\n",
        "transport_colour = transport[\"colour\"]\n",
        "transport[\"fuel\"] = petrol\n",
        "```\n",
        "\n",
        "To add a new key/value pair to a dictionary, simply assign a value to a new key:  \n",
        "```\n",
        "transport[\"seats\"] = 54\n",
        "```\n",
        "\n",
        "The transport dictionary will now look like this:  \n",
        "```\n",
        "   transport = {\n",
        "       \"type\":\"bus\",\n",
        "       \"numPassengers\":72,\n",
        "       \"colour\":\"blue\",\n",
        "       \"fuel\":\"diesel\",\n",
        "       \"seats\":54\n",
        "   }\n",
        "```\n",
        "\n"
      ]
    },
    {
      "cell_type": "markdown",
      "metadata": {
        "id": "0twREgj8d-8E"
      },
      "source": [
        "---\n",
        "### Exercise 1 - print dictionary\n",
        "\n",
        "Write a function which will:  \n",
        "\n",
        "*  create an empty dictionary for a person (name, age and postcode, with values \"\", 0 and \"\")\n",
        "*  ask the user for name, age and postcode and assign the values to the correct keys in the dictionary  \n",
        "*  print the dictionary\n",
        "\n",
        "Test input:  \n",
        "Jack Jones  \n",
        "16  \n",
        "AB5 3DF  \n",
        "\n",
        "Expected output:  \n",
        "```{'name':'Jack Jones', 'age':16, 'postcode':'AB5 3DF'}```"
      ]
    },
    {
      "cell_type": "code",
      "execution_count": null,
      "metadata": {
        "id": "xxdFsAVFeAaa",
        "outputId": "e199b4f9-c6c7-47ea-bbeb-2c268fd735f9",
        "colab": {
          "base_uri": "https://localhost:8080/"
        }
      },
      "outputs": [
        {
          "output_type": "stream",
          "name": "stdout",
          "text": [
            "Please enter your name Jack Jones\n",
            "Please enter your age 16\n",
            "Please enter your postcode AB5 3DF\n",
            "{'name': 'Jack Jones', 'age': 16, 'postcode': 'AB5 3DF'}\n"
          ]
        }
      ],
      "source": [
        "def print_dictionary():\n",
        "  dictionary = {\"name\":\", 0 and\", \"age\":\"0, and\", \"postcode\":\"0, and\"}\n",
        "\n",
        "  user_name = input(\"Please enter your name \")\n",
        "  dictionary[\"name\"] = user_name\n",
        "\n",
        "  user_age = int(input(\"Please enter your age \"))\n",
        "  dictionary[\"age\"] = user_age\n",
        "\n",
        "  user_postcode = input(\"Please enter your postcode \")\n",
        "  dictionary[\"postcode\"] = user_postcode\n",
        "\n",
        "  print(dictionary)\n",
        "\n",
        "print_dictionary()"
      ]
    },
    {
      "cell_type": "markdown",
      "metadata": {
        "id": "s2ovh9vReApo"
      },
      "source": [
        "---\n",
        "### Exercise 2 - create a dictionary\n",
        "\n",
        "Write a function that will create two dictionaries,without values:  \n",
        "\n",
        "1.  person (with keys firstname, surname, birthdate, postcode)  \n",
        "2.  car (with key/value pairs as follows:  make - Vauxhall, model - Corsa, engineSize - 1199, fuelType - unleaded, num_doors - 4)  \n",
        "\n",
        "*   ask the user to enter the values for the person dictionary  \n",
        "*   print, on one line, the person's name from the person dictionary and the make of the car from the car dictionary.\n",
        "\n",
        "Test input:  \n",
        "Jack  \n",
        "Jones  \n",
        "2005/02/02    \n",
        "AB5 3DF  \n",
        "\n",
        "Expected output:  \n",
        "Jack Jones Vauxhall"
      ]
    },
    {
      "cell_type": "code",
      "execution_count": null,
      "metadata": {
        "id": "zwVtULVkeB5F",
        "outputId": "6c80292f-a513-4b73-e651-63c35ad26c90",
        "colab": {
          "base_uri": "https://localhost:8080/",
          "height": 324
        }
      },
      "outputs": [
        {
          "output_type": "error",
          "ename": "KeyboardInterrupt",
          "evalue": "Interrupted by user",
          "traceback": [
            "\u001b[0;31m---------------------------------------------------------------------------\u001b[0m",
            "\u001b[0;31mKeyboardInterrupt\u001b[0m                         Traceback (most recent call last)",
            "\u001b[0;32m<ipython-input-41-a0484cb1d87d>\u001b[0m in \u001b[0;36m<cell line: 19>\u001b[0;34m()\u001b[0m\n\u001b[1;32m     17\u001b[0m   \u001b[0mprint\u001b[0m\u001b[0;34m(\u001b[0m\u001b[0mperson\u001b[0m\u001b[0;34m[\u001b[0m\u001b[0;34m\"firstname\"\u001b[0m\u001b[0;34m]\u001b[0m\u001b[0;34m,\u001b[0m\u001b[0mperson\u001b[0m\u001b[0;34m[\u001b[0m\u001b[0;34m\"surname\"\u001b[0m\u001b[0;34m]\u001b[0m\u001b[0;34m,\u001b[0m \u001b[0mcar\u001b[0m\u001b[0;34m[\u001b[0m\u001b[0;34m\"make\"\u001b[0m\u001b[0;34m]\u001b[0m\u001b[0;34m)\u001b[0m\u001b[0;34m\u001b[0m\u001b[0;34m\u001b[0m\u001b[0m\n\u001b[1;32m     18\u001b[0m \u001b[0;34m\u001b[0m\u001b[0m\n\u001b[0;32m---> 19\u001b[0;31m \u001b[0mcreate_dictionaries\u001b[0m\u001b[0;34m(\u001b[0m\u001b[0;34m)\u001b[0m\u001b[0;34m\u001b[0m\u001b[0;34m\u001b[0m\u001b[0m\n\u001b[0m",
            "\u001b[0;32m<ipython-input-41-a0484cb1d87d>\u001b[0m in \u001b[0;36mcreate_dictionaries\u001b[0;34m()\u001b[0m\n\u001b[1;32m      3\u001b[0m   \u001b[0mcar\u001b[0m \u001b[0;34m=\u001b[0m \u001b[0;34m{\u001b[0m\u001b[0;34m\"make\"\u001b[0m\u001b[0;34m:\u001b[0m\u001b[0;34m\"Vauxhall\"\u001b[0m\u001b[0;34m,\u001b[0m \u001b[0;34m\"model\"\u001b[0m\u001b[0;34m:\u001b[0m\u001b[0;34m\"Corsa\"\u001b[0m\u001b[0;34m,\u001b[0m \u001b[0;34m\"engineSize\"\u001b[0m\u001b[0;34m:\u001b[0m\u001b[0;34m\"1199\"\u001b[0m\u001b[0;34m,\u001b[0m \u001b[0;34m\"fuelType\"\u001b[0m\u001b[0;34m:\u001b[0m\u001b[0;34m\"unleaded\"\u001b[0m\u001b[0;34m,\u001b[0m \u001b[0;34m\"numDoors\"\u001b[0m\u001b[0;34m:\u001b[0m\u001b[0;34m\"4\"\u001b[0m\u001b[0;34m}\u001b[0m\u001b[0;34m\u001b[0m\u001b[0;34m\u001b[0m\u001b[0m\n\u001b[1;32m      4\u001b[0m \u001b[0;34m\u001b[0m\u001b[0m\n\u001b[0;32m----> 5\u001b[0;31m   \u001b[0muser_first\u001b[0m \u001b[0;34m=\u001b[0m \u001b[0minput\u001b[0m\u001b[0;34m(\u001b[0m\u001b[0;34m\"Please enter your first name \"\u001b[0m\u001b[0;34m)\u001b[0m\u001b[0;34m\u001b[0m\u001b[0;34m\u001b[0m\u001b[0m\n\u001b[0m\u001b[1;32m      6\u001b[0m   \u001b[0mperson\u001b[0m\u001b[0;34m[\u001b[0m\u001b[0;34m\"firstname\"\u001b[0m\u001b[0;34m]\u001b[0m \u001b[0;34m=\u001b[0m \u001b[0muser_first\u001b[0m\u001b[0;34m\u001b[0m\u001b[0;34m\u001b[0m\u001b[0m\n\u001b[1;32m      7\u001b[0m \u001b[0;34m\u001b[0m\u001b[0m\n",
            "\u001b[0;32m/usr/local/lib/python3.10/dist-packages/ipykernel/kernelbase.py\u001b[0m in \u001b[0;36mraw_input\u001b[0;34m(self, prompt)\u001b[0m\n\u001b[1;32m    849\u001b[0m                 \u001b[0;34m\"raw_input was called, but this frontend does not support input requests.\"\u001b[0m\u001b[0;34m\u001b[0m\u001b[0;34m\u001b[0m\u001b[0m\n\u001b[1;32m    850\u001b[0m             )\n\u001b[0;32m--> 851\u001b[0;31m         return self._input_request(str(prompt),\n\u001b[0m\u001b[1;32m    852\u001b[0m             \u001b[0mself\u001b[0m\u001b[0;34m.\u001b[0m\u001b[0m_parent_ident\u001b[0m\u001b[0;34m,\u001b[0m\u001b[0;34m\u001b[0m\u001b[0;34m\u001b[0m\u001b[0m\n\u001b[1;32m    853\u001b[0m             \u001b[0mself\u001b[0m\u001b[0;34m.\u001b[0m\u001b[0m_parent_header\u001b[0m\u001b[0;34m,\u001b[0m\u001b[0;34m\u001b[0m\u001b[0;34m\u001b[0m\u001b[0m\n",
            "\u001b[0;32m/usr/local/lib/python3.10/dist-packages/ipykernel/kernelbase.py\u001b[0m in \u001b[0;36m_input_request\u001b[0;34m(self, prompt, ident, parent, password)\u001b[0m\n\u001b[1;32m    893\u001b[0m             \u001b[0;32mexcept\u001b[0m \u001b[0mKeyboardInterrupt\u001b[0m\u001b[0;34m:\u001b[0m\u001b[0;34m\u001b[0m\u001b[0;34m\u001b[0m\u001b[0m\n\u001b[1;32m    894\u001b[0m                 \u001b[0;31m# re-raise KeyboardInterrupt, to truncate traceback\u001b[0m\u001b[0;34m\u001b[0m\u001b[0;34m\u001b[0m\u001b[0m\n\u001b[0;32m--> 895\u001b[0;31m                 \u001b[0;32mraise\u001b[0m \u001b[0mKeyboardInterrupt\u001b[0m\u001b[0;34m(\u001b[0m\u001b[0;34m\"Interrupted by user\"\u001b[0m\u001b[0;34m)\u001b[0m \u001b[0;32mfrom\u001b[0m \u001b[0;32mNone\u001b[0m\u001b[0;34m\u001b[0m\u001b[0;34m\u001b[0m\u001b[0m\n\u001b[0m\u001b[1;32m    896\u001b[0m             \u001b[0;32mexcept\u001b[0m \u001b[0mException\u001b[0m \u001b[0;32mas\u001b[0m \u001b[0me\u001b[0m\u001b[0;34m:\u001b[0m\u001b[0;34m\u001b[0m\u001b[0;34m\u001b[0m\u001b[0m\n\u001b[1;32m    897\u001b[0m                 \u001b[0mself\u001b[0m\u001b[0;34m.\u001b[0m\u001b[0mlog\u001b[0m\u001b[0;34m.\u001b[0m\u001b[0mwarning\u001b[0m\u001b[0;34m(\u001b[0m\u001b[0;34m\"Invalid Message:\"\u001b[0m\u001b[0;34m,\u001b[0m \u001b[0mexc_info\u001b[0m\u001b[0;34m=\u001b[0m\u001b[0;32mTrue\u001b[0m\u001b[0;34m)\u001b[0m\u001b[0;34m\u001b[0m\u001b[0;34m\u001b[0m\u001b[0m\n",
            "\u001b[0;31mKeyboardInterrupt\u001b[0m: Interrupted by user"
          ]
        }
      ],
      "source": [
        "def create_dictionaries():\n",
        "  person = {\"firstname\":\"o, and\", \"surname\":\"0, and\", \"birthdate\":\"0, and\", \"postcode\":\"0, and\"}\n",
        "  car = {\"make\":\"Vauxhall\", \"model\":\"Corsa\", \"engineSize\":\"1199\", \"fuelType\":\"unleaded\", \"numDoors\":\"4\"}\n",
        "\n",
        "  user_first = input(\"Please enter your first name \")\n",
        "  person[\"firstname\"] = user_first\n",
        "\n",
        "  user_second = input(\"Please enter your surname \")\n",
        "  person[\"surname\"] = user_second\n",
        "\n",
        "  user_birthdate = input(\"Please enter your birth date \")\n",
        "  person[\"birthdate\"] = user_birthdate\n",
        "\n",
        "  user_postcode = input(\"Please enter your postcode \")\n",
        "  person[\"postcode\"] = user_postcode\n",
        "\n",
        "  print(person[\"firstname\"],person[\"surname\"], car[\"make\"])\n",
        "\n",
        "create_dictionaries()"
      ]
    },
    {
      "cell_type": "markdown",
      "metadata": {
        "id": "Juu-ivg0eDS5"
      },
      "source": [
        "---\n",
        "### Exercise 3 - check dictionary values\n",
        "\n",
        "Write a new function which will:\n",
        "\n",
        "*  set up the same two dictionaries as in Exercise 2  \n",
        "*  ask the user to enter the details to complete the person record  \n",
        "*  calculate the person's age  \n",
        "*  if the person is under 17 then print a message to say that they can't buy a car as they are too young to drive\n",
        "*  else if the person is under 25 then print a message to say that an engine size under 1200 is recommended  \n",
        "*  ask the user to enter the make of car that the person is looking for  \n",
        "*  if the user enters the same make as that stored in the car record, then print a message to say that you have one car of that make in stock and print all the details of the car that you have the record for\n",
        "*  else (if the user enters any other car make) then print a message to say sorry that you don't have any cars of that make in stock\n",
        "*  print a message to say that the user can get more details for stockist in the <user's postcode> area if they call 01234567890\n",
        "*  print a message to say \"Thank you <user's name> for using our site\"  \n",
        "\n",
        "Test input:  \n",
        "Jack  \n",
        "Jones  \n",
        "2005/02/02  \n",
        "AB5 3DF  \n",
        "Vauxhall  \n",
        "\n",
        "Expected output:  \n",
        "You are too young to drive\n",
        "\n",
        "Test input:  \n",
        "John  \n",
        "Jones  \n",
        "2003/02/02  \n",
        "AB5 3DF  \n",
        "Vauxhall\n",
        "\n",
        "Expected output:  \n",
        "An engine size under 1200 is recommended  \n",
        "We have one Vauxhall in stock, details:  \n",
        "Make - Vauxhall    \n",
        "Model - Corsa    \n",
        "Engine size - 1199  \n",
        "Fuel type - unleaded   \n",
        "Number of doors - 4  \n",
        "You can get more details of stockists near AB5 3DF on 01234567890  \n",
        "Thank you John Jones for using our site.     \n",
        "\n",
        "Test input:  \n",
        "John  \n",
        "Jones  \n",
        "2003/02/02  \n",
        "AB5 3DF  \n",
        "Ford  \n",
        "\n",
        "Expected output:  \n",
        "An engine size under 1200 is recommended  \n",
        "Sorry, we don't have any of that make in stock  \n"
      ]
    },
    {
      "cell_type": "code",
      "execution_count": null,
      "metadata": {
        "id": "IiAIQVvWeDsk",
        "outputId": "26861969-7b25-490e-854e-f0d21816762c",
        "colab": {
          "base_uri": "https://localhost:8080/",
          "height": 359
        }
      },
      "outputs": [
        {
          "output_type": "error",
          "ename": "KeyboardInterrupt",
          "evalue": "Interrupted by user",
          "traceback": [
            "\u001b[0;31m---------------------------------------------------------------------------\u001b[0m",
            "\u001b[0;31mKeyboardInterrupt\u001b[0m                         Traceback (most recent call last)",
            "\u001b[0;32m<ipython-input-51-af4736ee2a77>\u001b[0m in \u001b[0;36m<cell line: 49>\u001b[0;34m()\u001b[0m\n\u001b[1;32m     47\u001b[0m   \u001b[0mprint\u001b[0m\u001b[0;34m(\u001b[0m\u001b[0;34m\"Thank you\"\u001b[0m\u001b[0;34m,\u001b[0m \u001b[0mperson\u001b[0m\u001b[0;34m[\u001b[0m\u001b[0;34m\"firstname\"\u001b[0m\u001b[0;34m]\u001b[0m\u001b[0;34m,\u001b[0m \u001b[0mperson\u001b[0m\u001b[0;34m[\u001b[0m\u001b[0;34m\"surname\"\u001b[0m\u001b[0;34m]\u001b[0m\u001b[0;34m,\u001b[0m \u001b[0;34m\"for using our site\"\u001b[0m\u001b[0;34m)\u001b[0m\u001b[0;34m\u001b[0m\u001b[0;34m\u001b[0m\u001b[0m\n\u001b[1;32m     48\u001b[0m \u001b[0;34m\u001b[0m\u001b[0m\n\u001b[0;32m---> 49\u001b[0;31m \u001b[0mcheck_dictionaries\u001b[0m\u001b[0;34m(\u001b[0m\u001b[0;34m)\u001b[0m\u001b[0;34m\u001b[0m\u001b[0;34m\u001b[0m\u001b[0m\n\u001b[0m\u001b[1;32m     50\u001b[0m \u001b[0;34m\u001b[0m\u001b[0m\n\u001b[1;32m     51\u001b[0m \u001b[0;34m\u001b[0m\u001b[0m\n",
            "\u001b[0;32m<ipython-input-51-af4736ee2a77>\u001b[0m in \u001b[0;36mcheck_dictionaries\u001b[0;34m()\u001b[0m\n\u001b[1;32m      7\u001b[0m   \u001b[0mcar\u001b[0m \u001b[0;34m=\u001b[0m \u001b[0;34m{\u001b[0m\u001b[0;34m\"make\"\u001b[0m\u001b[0;34m:\u001b[0m\u001b[0;34m\"Vauxhall\"\u001b[0m\u001b[0;34m,\u001b[0m \u001b[0;34m\"model\"\u001b[0m\u001b[0;34m:\u001b[0m\u001b[0;34m\"Corsa\"\u001b[0m\u001b[0;34m,\u001b[0m \u001b[0;34m\"engineSize\"\u001b[0m\u001b[0;34m:\u001b[0m\u001b[0;34m\"1199\"\u001b[0m\u001b[0;34m,\u001b[0m \u001b[0;34m\"fuelType\"\u001b[0m\u001b[0;34m:\u001b[0m\u001b[0;34m\"unleaded\"\u001b[0m\u001b[0;34m,\u001b[0m \u001b[0;34m\"numDoors\"\u001b[0m\u001b[0;34m:\u001b[0m\u001b[0;34m\"4\"\u001b[0m\u001b[0;34m}\u001b[0m\u001b[0;34m\u001b[0m\u001b[0;34m\u001b[0m\u001b[0m\n\u001b[1;32m      8\u001b[0m \u001b[0;34m\u001b[0m\u001b[0m\n\u001b[0;32m----> 9\u001b[0;31m   \u001b[0muser_first\u001b[0m \u001b[0;34m=\u001b[0m \u001b[0minput\u001b[0m\u001b[0;34m(\u001b[0m\u001b[0;34m\"Please enter your first name \"\u001b[0m\u001b[0;34m)\u001b[0m\u001b[0;34m\u001b[0m\u001b[0;34m\u001b[0m\u001b[0m\n\u001b[0m\u001b[1;32m     10\u001b[0m   \u001b[0mperson\u001b[0m\u001b[0;34m[\u001b[0m\u001b[0;34m\"firstname\"\u001b[0m\u001b[0;34m]\u001b[0m \u001b[0;34m=\u001b[0m \u001b[0muser_first\u001b[0m\u001b[0;34m\u001b[0m\u001b[0;34m\u001b[0m\u001b[0m\n\u001b[1;32m     11\u001b[0m \u001b[0;34m\u001b[0m\u001b[0m\n",
            "\u001b[0;32m/usr/local/lib/python3.10/dist-packages/ipykernel/kernelbase.py\u001b[0m in \u001b[0;36mraw_input\u001b[0;34m(self, prompt)\u001b[0m\n\u001b[1;32m    849\u001b[0m                 \u001b[0;34m\"raw_input was called, but this frontend does not support input requests.\"\u001b[0m\u001b[0;34m\u001b[0m\u001b[0;34m\u001b[0m\u001b[0m\n\u001b[1;32m    850\u001b[0m             )\n\u001b[0;32m--> 851\u001b[0;31m         return self._input_request(str(prompt),\n\u001b[0m\u001b[1;32m    852\u001b[0m             \u001b[0mself\u001b[0m\u001b[0;34m.\u001b[0m\u001b[0m_parent_ident\u001b[0m\u001b[0;34m,\u001b[0m\u001b[0;34m\u001b[0m\u001b[0;34m\u001b[0m\u001b[0m\n\u001b[1;32m    853\u001b[0m             \u001b[0mself\u001b[0m\u001b[0;34m.\u001b[0m\u001b[0m_parent_header\u001b[0m\u001b[0;34m,\u001b[0m\u001b[0;34m\u001b[0m\u001b[0;34m\u001b[0m\u001b[0m\n",
            "\u001b[0;32m/usr/local/lib/python3.10/dist-packages/ipykernel/kernelbase.py\u001b[0m in \u001b[0;36m_input_request\u001b[0;34m(self, prompt, ident, parent, password)\u001b[0m\n\u001b[1;32m    893\u001b[0m             \u001b[0;32mexcept\u001b[0m \u001b[0mKeyboardInterrupt\u001b[0m\u001b[0;34m:\u001b[0m\u001b[0;34m\u001b[0m\u001b[0;34m\u001b[0m\u001b[0m\n\u001b[1;32m    894\u001b[0m                 \u001b[0;31m# re-raise KeyboardInterrupt, to truncate traceback\u001b[0m\u001b[0;34m\u001b[0m\u001b[0;34m\u001b[0m\u001b[0m\n\u001b[0;32m--> 895\u001b[0;31m                 \u001b[0;32mraise\u001b[0m \u001b[0mKeyboardInterrupt\u001b[0m\u001b[0;34m(\u001b[0m\u001b[0;34m\"Interrupted by user\"\u001b[0m\u001b[0;34m)\u001b[0m \u001b[0;32mfrom\u001b[0m \u001b[0;32mNone\u001b[0m\u001b[0;34m\u001b[0m\u001b[0;34m\u001b[0m\u001b[0m\n\u001b[0m\u001b[1;32m    896\u001b[0m             \u001b[0;32mexcept\u001b[0m \u001b[0mException\u001b[0m \u001b[0;32mas\u001b[0m \u001b[0me\u001b[0m\u001b[0;34m:\u001b[0m\u001b[0;34m\u001b[0m\u001b[0;34m\u001b[0m\u001b[0m\n\u001b[1;32m    897\u001b[0m                 \u001b[0mself\u001b[0m\u001b[0;34m.\u001b[0m\u001b[0mlog\u001b[0m\u001b[0;34m.\u001b[0m\u001b[0mwarning\u001b[0m\u001b[0;34m(\u001b[0m\u001b[0;34m\"Invalid Message:\"\u001b[0m\u001b[0;34m,\u001b[0m \u001b[0mexc_info\u001b[0m\u001b[0;34m=\u001b[0m\u001b[0;32mTrue\u001b[0m\u001b[0;34m)\u001b[0m\u001b[0;34m\u001b[0m\u001b[0;34m\u001b[0m\u001b[0m\n",
            "\u001b[0;31mKeyboardInterrupt\u001b[0m: Interrupted by user"
          ]
        }
      ],
      "source": [
        "from dateutil.relativedelta import relativedelta\n",
        "import datetime\n",
        "\n",
        "def check_dictionaries():\n",
        "\n",
        "  person = {\"firstname\":\"0, and\", \"surname\":\"0, and\", \"birthdate\":\"0, and\", \"postcode\":\"0, and\"}\n",
        "  car = {\"make\":\"Vauxhall\", \"model\":\"Corsa\", \"engineSize\":\"1199\", \"fuelType\":\"unleaded\", \"numDoors\":\"4\"}\n",
        "\n",
        "  user_first = input(\"Please enter your first name \")\n",
        "  person[\"firstname\"] = user_first\n",
        "\n",
        "  user_surname = input(\"Please enter your surname \")\n",
        "  person[\"surname\"] = user_surname\n",
        "\n",
        "  user_birth = input(\"Please enter your birth date \")\n",
        "  person[\"birthdate\"] = user_birth\n",
        "\n",
        "  user_postcode = input(\"Please enter your postcode \")\n",
        "  person[\"postcode\"] = user_postcode\n",
        "\n",
        "\n",
        "  birthdate = datetime.datetime.strptime(user_birth, \"%Y/%d/%m\")\n",
        "  today = datetime.date.today()\n",
        "  age = relativedelta(today, birthdate).years\n",
        "\n",
        "  if age <17:\n",
        "    print(\"You can buy a car but you are too young to drive it\")\n",
        "\n",
        "  elif age >17 and age <25:\n",
        "    print(\"You can drive a car but an engine size of 1200 is recommended\")\n",
        "\n",
        "\n",
        "  what_car = input(\"What make of car are you looking for \")\n",
        "\n",
        "  if what_car == car[\"make\"]:\n",
        "    print(\"We have a car of that make in stock\")\n",
        "    print(\"Make -\", car[\"make\"])\n",
        "    print(\"Model -\", car[\"model\"])\n",
        "    print(\"Engine Size -\", car[\"engineSize\"])\n",
        "    print(\"Fuel Type -\", car[\"fuelType\"])\n",
        "    print(\"Number of Doors -\", car[\"numDoors\"])\n",
        "\n",
        "  else:\n",
        "    print(\"Sorry we dont have any cars of that make in stock\")\n",
        "\n",
        "  print(\"You can get more details for stocked cars in\", person[\"postcode\"], \"area at 0123456789\")\n",
        "  print(\"Thank you\", person[\"firstname\"], person[\"surname\"], \"for using our site\")\n",
        "\n",
        "check_dictionaries()\n",
        "\n",
        "\n"
      ]
    },
    {
      "cell_type": "markdown",
      "metadata": {
        "id": "ctA2qPE3eFRB"
      },
      "source": [
        "---\n",
        "### Exercise 4 - print keys and values\n",
        "\n",
        "Two dictionaries have been created below.  You can print a list of the dictionary's keys using `dictionary_name.keys()` and the values using `dictionary_name.values()`\n",
        "\n",
        "Write a function which will accept a dictionary as a parameter and will:  \n",
        "*  print the dictionary keys as a list   \n",
        "*  print the dictionary values as a list  \n",
        "\n",
        "*Hint*:  you will need to cast the keys as a list (`list(dictionary_name.keys()`)  and do the same for the values.\n",
        "\n",
        "**Expected Output**\n",
        "\n",
        "Input: English  \n",
        "Output:\n",
        "['Andy', 'Angela']  \n",
        "[95, 53]  \n",
        "\n",
        "Input: Maths  \n",
        "Output:  \n",
        "['Andy', 'Angela']  \n",
        "[58, 72]\n",
        "\n",
        "\n",
        "\n"
      ]
    },
    {
      "cell_type": "code",
      "execution_count": null,
      "metadata": {
        "id": "MJtMND82eGwt",
        "outputId": "c59291cf-b704-4509-e293-3133f76f5b41",
        "colab": {
          "base_uri": "https://localhost:8080/"
        }
      },
      "outputs": [
        {
          "output_type": "stream",
          "name": "stdout",
          "text": [
            "['Andy', 'Angela']\n",
            "[95, 53]\n",
            "['Andy', 'Angela']\n",
            "[58, 72]\n"
          ]
        }
      ],
      "source": [
        "def display_dictionary(scores):\n",
        "  #  add your code below this line\n",
        "\n",
        "  print(list(scores.keys()))\n",
        "  print(list(scores.values()))\n",
        "\n",
        "\n",
        "\n",
        "english_scores = {'Andy': 95, 'Angela': 53}\n",
        "maths_scores = {'Andy': 58, 'Angela': 72}\n",
        "display_dictionary(english_scores)\n",
        "display_dictionary(maths_scores)\n",
        "\n",
        "\n"
      ]
    },
    {
      "cell_type": "markdown",
      "metadata": {
        "id": "l21xWlAYeIbD"
      },
      "source": [
        "---\n",
        "### Exercise 5 - add field\n",
        "\n",
        "Write a function which will:\n",
        "\n",
        "*  create a new dictionary called **science_scores** with values of 0 for both Andy and Angela\n",
        "*  update Andy's score for science to 73 and Angela's score to 73   \n",
        "*  create a new key/value pair by adding another learner to the `science_scores`  dictionary (George has a score of 55)    \n",
        "*  print the `science_scores` dictionary to check results  \n",
        "\n",
        "Expected Output\n",
        "\n",
        "{'Andy': 73, 'Angela': 73, 'George': 55}"
      ]
    },
    {
      "cell_type": "code",
      "execution_count": null,
      "metadata": {
        "id": "yUIyc-AleI1j",
        "colab": {
          "base_uri": "https://localhost:8080/"
        },
        "outputId": "8734ff38-4927-4f69-d958-0f59a6fa3446"
      },
      "outputs": [
        {
          "output_type": "stream",
          "name": "stdout",
          "text": [
            "{'Andy': 73, 'Angela': 73, 'George': 55}\n"
          ]
        }
      ],
      "source": [
        "def add_field():\n",
        "  english_scores = {\"Andy\": 95, \"Angela\": 53}\n",
        "  math_scores = {\"Andy\": 58, \"Angela\": 72}\n",
        "  science_scores = {\"Andy\": \"0 and\", \"Angela\": \"0 and\"}\n",
        "\n",
        "  science_scores[\"Andy\"] = 73\n",
        "  science_scores[\"Angela\"] = 73\n",
        "\n",
        "  science_scores.update({\"George\": 55})\n",
        "\n",
        "  print(science_scores)\n",
        "\n",
        "add_field()\n",
        "\n"
      ]
    },
    {
      "cell_type": "markdown",
      "metadata": {
        "id": "WhkZtLjDeJ5D"
      },
      "source": [
        "---\n",
        "### Exercise 6 - loop through keys/value pairs\n",
        "\n",
        "Write a function which will use a *for* loop to print the each key/value pair in the science dictionary (recreate this dictionary in this function)\n",
        "\n",
        "*(Hint: you can iterate through the key/value pairs in the dictionary in the same way as you iterate through a loop (e.g. for record in dictionary) and print the record (which is the key) and its value)*\n",
        "\n",
        "Expected output:  \n",
        "\n",
        "Angela 72  \n",
        "Andy 72  \n",
        "George 55  "
      ]
    },
    {
      "cell_type": "code",
      "execution_count": null,
      "metadata": {
        "id": "AhW3GnQheKNW",
        "colab": {
          "base_uri": "https://localhost:8080/"
        },
        "outputId": "d0e91791-63de-4d12-eb42-d0d6b373f327"
      },
      "outputs": [
        {
          "output_type": "stream",
          "name": "stdout",
          "text": [
            "Angela 72\n",
            "Andy 72\n",
            "George 55\n"
          ]
        }
      ],
      "source": [
        "def loop_through_keypairs():\n",
        "  scores = {\"Angela\": 72, \"Andy\": 72, \"George\": 55}\n",
        "\n",
        "  for key, value in scores.items():\n",
        "    print(key, value)\n",
        "\n",
        "loop_through_keypairs()"
      ]
    },
    {
      "cell_type": "markdown",
      "metadata": {
        "id": "RfJnjBoTeLeU"
      },
      "source": [
        "---\n",
        "### Exercise 7 - generate new dictionary  \n",
        "\n",
        "Write a functions which will:\n",
        "*  create a new dictionary where the keys are numbers between 1 and 15 (both included) and the values are square of keys\n",
        "*  print the dictionary\n",
        "\n",
        "Expected output:  \n",
        "{1: 1, 2: 4, 3: 9, 4: 16, 5: 25, 6: 36, 7: 49, 8: 64, 9: 81, 10: 100, 11: 121, 12: 144, 13: 169, 14: 196, 15: 225}"
      ]
    },
    {
      "cell_type": "code",
      "execution_count": null,
      "metadata": {
        "id": "Zn-pa0rXeLvk",
        "colab": {
          "base_uri": "https://localhost:8080/"
        },
        "outputId": "df69ff9e-6b44-45ea-fa11-19d6083c0e72"
      },
      "outputs": [
        {
          "output_type": "stream",
          "name": "stdout",
          "text": [
            "{1: 1, 2: 4, 3: 9, 4: 16, 5: 25, 6: 36, 7: 49, 8: 64, 9: 81, 10: 100, 11: 121, 12: 144, 13: 169, 14: 196, 15: 225}\n"
          ]
        }
      ],
      "source": [
        "def generate_dictionary():\n",
        "  dictionary = {}\n",
        "\n",
        "  for x in range(1,16):\n",
        "    dictionary[x] = x**2\n",
        "\n",
        "  print(dictionary)\n",
        "\n",
        "generate_dictionary()"
      ]
    },
    {
      "cell_type": "markdown",
      "metadata": {
        "id": "oehTCZ07eMm_"
      },
      "source": [
        "---\n",
        "### Exercise 8 - colour dictionary  \n",
        "\n",
        "Write a function which will:  \n",
        "*  create a new dictionary record called colour_codes with the values 'red' - '#FF0000', 'green' - '#008000', 'black' - '#000000', 'white' - '#FFFFFF'\n",
        "*  add a new colour code:  'blue' - '#0000FF'    \n",
        "*  remove the colours black and white from the dictionary  \n",
        "\n",
        "*Hint:  there is a list of methods [here](https://www.w3schools.com/python/python_ref_dictionary.asp)*  "
      ]
    },
    {
      "cell_type": "code",
      "execution_count": 6,
      "metadata": {
        "id": "DCJC5Jk2eM5Q",
        "colab": {
          "base_uri": "https://localhost:8080/"
        },
        "outputId": "50034775-3eed-40f0-85e7-54732bba30d5"
      },
      "outputs": [
        {
          "output_type": "stream",
          "name": "stdout",
          "text": [
            "{'red': '#FF0000', 'green': '#008000', 'blue': '#0000FF'}\n"
          ]
        }
      ],
      "source": [
        "def colour_dictionary():\n",
        "\n",
        "  colour_codes = {\"red\": \"#FF0000\", \"green\": \"#008000\", \"black\": \"#000000\", \"white\": \"#FFFFFF\"}\n",
        "\n",
        "  colour_codes.update({\"blue\": \"#0000FF\"})\n",
        "\n",
        "  colour_codes.pop(\"black\")\n",
        "  colour_codes.pop(\"white\")\n",
        "\n",
        "  print(colour_codes)\n",
        "\n",
        "colour_dictionary()"
      ]
    },
    {
      "cell_type": "markdown",
      "metadata": {
        "id": "W1z8ixCzeN8x"
      },
      "source": [
        "---\n",
        "### Exercise 9 - item tuples  \n",
        "\n",
        "Write a function which will:  \n",
        "*  create a new dictionary containing the colour codes for red, green, blue, black and white\n",
        "*  print the key/value pairs of a dictionary as a list of tuples  \n",
        "\n",
        "*Hint:  iterate through colours.items()*"
      ]
    },
    {
      "cell_type": "code",
      "execution_count": 7,
      "metadata": {
        "id": "9fMy4RU_eOdE",
        "colab": {
          "base_uri": "https://localhost:8080/"
        },
        "outputId": "a1501ef6-9c04-4bed-c593-6afbce4811c0"
      },
      "outputs": [
        {
          "output_type": "stream",
          "name": "stdout",
          "text": [
            "[('red', '#FF0000'), ('green', '#008000'), ('blue', '#0000FF'), ('black', '#000000'), ('white', '#FFFFFF')]\n"
          ]
        }
      ],
      "source": [
        "def item_tuples():\n",
        "\n",
        "  colour_codes = {\"red\": \"#FF0000\", \"green\": \"#008000\", \"blue\": \"#0000FF\", \"black\": \"#000000\", \"white\": \"#FFFFFF\"}\n",
        "\n",
        "  colour_list = [(k, v) for k, v in colour_codes.items()]\n",
        "\n",
        "  print(colour_list)\n",
        "\n",
        "item_tuples()"
      ]
    },
    {
      "cell_type": "markdown",
      "metadata": {
        "id": "gkrOvN9IePku"
      },
      "source": [
        "---\n",
        "### Exercise 10 - check if empty\n",
        "Taken from w3resouce.com  \n",
        "\n",
        "Write a function which will check if a dictionary is empty or not\n",
        "\n",
        "*Hint:  you can use bool(dictionary_name), if the dictionary is empty then bool(dictionary_name will be false)*\n",
        "\n",
        "Test 1 sample data:\n",
        "{}\n",
        "\n",
        "Expected output:\n",
        "Dictionary is empty  \n",
        "\n",
        "Test 2 sample data:  \n",
        "{\"name\":\"Groucho\", \"occupation\":\"comedian\"}\n",
        "\n",
        "Expected output:  \n",
        "Dictionary is not empty"
      ]
    },
    {
      "cell_type": "code",
      "execution_count": null,
      "metadata": {
        "id": "BulXCFK0eQJ-"
      },
      "outputs": [],
      "source": []
    }
  ],
  "metadata": {
    "colab": {
      "provenance": [],
      "include_colab_link": true
    },
    "kernelspec": {
      "display_name": "Python 3",
      "name": "python3"
    },
    "language_info": {
      "name": "python"
    }
  },
  "nbformat": 4,
  "nbformat_minor": 0
}
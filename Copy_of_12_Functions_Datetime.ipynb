{
  "nbformat": 4,
  "nbformat_minor": 0,
  "metadata": {
    "colab": {
      "provenance": [],
      "include_colab_link": true
    },
    "kernelspec": {
      "name": "python3",
      "display_name": "Python 3"
    },
    "language_info": {
      "name": "python"
    }
  },
  "cells": [
    {
      "cell_type": "markdown",
      "metadata": {
        "id": "view-in-github",
        "colab_type": "text"
      },
      "source": [
        "<a href=\"https://colab.research.google.com/github/Krazyspy/DataPython/blob/main/Copy_of_12_Functions_Datetime.ipynb\" target=\"_parent\"><img src=\"https://colab.research.google.com/assets/colab-badge.svg\" alt=\"Open In Colab\"/></a>"
      ]
    },
    {
      "cell_type": "markdown",
      "metadata": {
        "id": "7iQyKP-SQiw1"
      },
      "source": [
        "# User-defined functions using datetime library\n",
        "\n",
        "---\n"
      ]
    },
    {
      "cell_type": "markdown",
      "metadata": {
        "id": "Vi93h5I4QnKs"
      },
      "source": [
        "When working with dates and times, fairly common in data sets, we need to be able to extract certain bits of information.  \n",
        "\n",
        "In Python, as with other languages, dates and times are stored in a data structure that combines the two together and stores the information as a number of seconds since a start point (often 1st January 1900).  This is obviously a large number but every bit of information about a date can be extracted from it and used to give a wide range of information.  \n",
        "\n",
        "Have a go at the exercises below to use a selection of datetime functions and return a new bit of data from each, to be printed by the caller.\n",
        "\n",
        "Before you can use datetime functions you will need to import them. Import the datetime functions like this:\n",
        "\n",
        "`from datetime import datetime`  \n",
        "\n",
        "\n",
        "For more information about datetime functions visit [w3Schools-Python datetime](https://www.w3schools.com/python/python_datetime.asp) and [Python docs](https://docs.python.org/3/library/datetime.html)"
      ]
    },
    {
      "cell_type": "markdown",
      "metadata": {
        "id": "MIDLi7CNR034"
      },
      "source": [
        "---\n",
        "### Exercise 1 - print current date and time\n",
        "\n",
        "Write a function that will return the date and time now.  The caller will print it.  \n",
        "\n",
        "*Hint:  the format has been added for you, the other exercises will follow a similar format.   Always remember to import datetime from datetime as shown below*"
      ]
    },
    {
      "cell_type": "code",
      "metadata": {
        "id": "gS6GJdXbQfHp",
        "outputId": "ff0b141c-65f9-4b56-d569-b955bc148c44",
        "colab": {
          "base_uri": "https://localhost:8080/"
        }
      },
      "source": [
        "from datetime import datetime, timezone\n",
        "# add your function, called get_datetime_now() below here\n",
        "get_datetime_now = datetime.now()\n",
        "\n",
        "print(get_datetime_now)"
      ],
      "execution_count": null,
      "outputs": [
        {
          "output_type": "stream",
          "name": "stdout",
          "text": [
            "2024-01-29 19:05:40.017251\n"
          ]
        }
      ]
    },
    {
      "cell_type": "markdown",
      "metadata": {
        "id": "Yy24sL0bUtpF"
      },
      "source": [
        "---\n",
        "Exercise 2 - print the current year\n",
        "\n",
        "Write a function that will return the current year.  The caller will print the year."
      ]
    },
    {
      "cell_type": "code",
      "metadata": {
        "id": "YqlQqPIqUtyr",
        "outputId": "2e123e17-9e5d-4ccc-a889-3fe3de8dd76b",
        "colab": {
          "base_uri": "https://localhost:8080/"
        }
      },
      "source": [
        "from datetime import datetime\n",
        "x = datetime.now()\n",
        "\n",
        "print(x.year)"
      ],
      "execution_count": null,
      "outputs": [
        {
          "output_type": "stream",
          "name": "stdout",
          "text": [
            "2024\n"
          ]
        }
      ]
    },
    {
      "cell_type": "markdown",
      "metadata": {
        "id": "FzSVCaJKV1O1"
      },
      "source": [
        "---\n",
        "### Exercise 3 - print the current day of the week\n",
        "\n",
        "Write a function that will return the current day of the week.  The caller will print it."
      ]
    },
    {
      "cell_type": "code",
      "metadata": {
        "id": "OP4ZIXBWV1Yj",
        "outputId": "b2d663e5-065a-48f7-f1e0-b389598094ee",
        "colab": {
          "base_uri": "https://localhost:8080/"
        }
      },
      "source": [
        "from datetime import datetime\n",
        "x = datetime.now()\n",
        "print(x.strftime(\"%A\"))"
      ],
      "execution_count": null,
      "outputs": [
        {
          "output_type": "stream",
          "name": "stdout",
          "text": [
            "Monday\n"
          ]
        }
      ]
    },
    {
      "cell_type": "markdown",
      "metadata": {
        "id": "a8euCtdmWIDE"
      },
      "source": [
        "---\n",
        "### Exercise 4 - create a new date\n",
        "\n",
        "Write a function that will take 3 parameters, day, month, year (3 numbers that make a valid date) and will create, and return a new date.  The caller will print the date."
      ]
    },
    {
      "cell_type": "code",
      "metadata": {
        "id": "FbOFnTwnWILN"
      },
      "source": [
        "from datetime import datetime\n",
        "day = int(input(\"Please enter day \"))\n",
        "month = int(input(\"Please enter the month in a number \"))\n",
        "year = int(input(\"Please enter the year \"))\n",
        "date = datetime(year, month, day)\n",
        "\n",
        "print(date)"
      ],
      "execution_count": null,
      "outputs": []
    },
    {
      "cell_type": "markdown",
      "metadata": {
        "id": "f5SKVuE0WfcE"
      },
      "source": [
        "---\n",
        "### Exercise 5 - create a valid date\n",
        "\n",
        "Write a function that will take 3 parameters, day, month, year (3 numbers) and will:  \n",
        "*   check that the month is between 1 and 12  \n",
        "*   check that the day is valid for the month (e.g. if the month is 2, then the day must be between 1 and 28 (don't worry about leap years for the moment)  \n",
        "*   if the date is not valid, print an error message and return None (which the caller will print)  \n",
        "*   if the date is valid, store it in a new variable, return the variable and the caller will print it."
      ]
    },
    {
      "cell_type": "code",
      "metadata": {
        "id": "gclt-f9-XfdG",
        "colab": {
          "base_uri": "https://localhost:8080/"
        },
        "outputId": "6d0036df-997d-4c8b-988c-83a553157509"
      },
      "source": [
        "from datetime import datetime\n",
        "\n",
        "day = int(input(\"Please enter day \"))\n",
        "month = int(input(\"Please enter the month in a number \"))\n",
        "year = int(input(\"Please enter the year \"))\n",
        "\n",
        "if month==1 or month==3 or month==5 or month==7 or month==8 or month==10 or month==12:\n",
        "  max_days=31\n",
        "elif month==4 or month==6 or month==9 or month==11:\n",
        "  max_days=30\n",
        "elif month==2:\n",
        "  max_days=28\n",
        "\n",
        "if month<1 or month>12:\n",
        "  print(\"Date is not valid\")\n",
        "elif day<1 or day>max_days:\n",
        "  print(\"Date is not valid\")\n",
        "else:\n",
        "  print(datetime(year, month, day))\n",
        "\n"
      ],
      "execution_count": null,
      "outputs": [
        {
          "output_type": "stream",
          "name": "stdout",
          "text": [
            "Please enter day 0\n",
            "Please enter the month in a number 5\n",
            "Please enter the year 1989\n",
            "Date is not valid\n"
          ]
        }
      ]
    },
    {
      "cell_type": "markdown",
      "metadata": {
        "id": "js7fy2HWXfm2"
      },
      "source": [
        "---\n",
        "### Exercise 6 - is it a leap year?\n",
        "\n",
        "Write a function that will take a date as a parameter (you will need to create the date variable before calling the function) and will determine if it is a leap year, returning True or False.\n",
        "\n",
        "*Hint:  a leap year is a year that is divisible by 4 but the centuries (1900, 2000, etc are only leap years if they are divisible by 400)*"
      ]
    },
    {
      "cell_type": "code",
      "source": [
        "from datetime import datetime\n",
        "\n",
        "year = int(input(\"Please enter the year\" ))\n",
        "\n",
        "if year % 400 == 0 or year %100 != 0 and year %4 == 0:\n",
        "  print(year, \"Is A Leap Year\")\n",
        "else:\n",
        "  print(year, \"Is Not A Leap Year\")"
      ],
      "metadata": {
        "colab": {
          "base_uri": "https://localhost:8080/"
        },
        "id": "cVEAfw8PlK7c",
        "outputId": "34e4569d-db16-4225-f5e1-acc41316b9fc"
      },
      "execution_count": null,
      "outputs": [
        {
          "output_type": "stream",
          "name": "stdout",
          "text": [
            "Please enter the year1989\n",
            "1989 Is Not A Leap Year\n"
          ]
        }
      ]
    },
    {
      "cell_type": "markdown",
      "metadata": {
        "id": "9BuRDi08YAO0"
      },
      "source": [
        "---\n",
        "### Exercise 7 - display parts of date/time\n",
        "\n",
        "Write a function that will take a date and print from it the following:  \n",
        "*  given date and time  \n",
        "*  year (in full)\n",
        "*  month (as a number)\n",
        "*  month name\n",
        "*  week number of the year  \n",
        "*  weekday of the week (as a number)  \n",
        "*  day of year  \n",
        "*  day of the month  \n",
        "*  day of week (as a name)  \n",
        "\n",
        "*Hint:  see w3Schools for [strftime reference](https://www.w3schools.com/python/python_datetime.asp)*\n",
        "\n"
      ]
    },
    {
      "cell_type": "code",
      "metadata": {
        "id": "zl-37Ez9ahym",
        "colab": {
          "base_uri": "https://localhost:8080/"
        },
        "outputId": "aa8e1760-6902-421e-f578-fcb4f52bbfb8"
      },
      "source": [
        "from datetime import datetime\n",
        "\n",
        "day = int(input(\"Please enter what the day is as a number \"))\n",
        "month = int(input(\"Please enter what the month is as a number \"))\n",
        "year = int(input(\"Please enter what the year is \"))\n",
        "\n",
        "datetime = datetime(year, month, day)\n",
        "\n",
        "print(datetime)\n",
        "print(datetime.strftime(\"%Y\"))\n",
        "print(datetime.strftime(\"%m\"))\n",
        "print(datetime.strftime(\"%B\"))\n",
        "print(datetime.strftime(\"%W\"))\n",
        "print(datetime.strftime(\"%w\"))\n",
        "print(datetime.strftime(\"%j\"))\n",
        "print(datetime.strftime(\"%d\"))\n",
        "print(datetime.strftime(\"%A\"))\n"
      ],
      "execution_count": null,
      "outputs": [
        {
          "output_type": "stream",
          "name": "stdout",
          "text": [
            "Please enter what the day is as a number 31\n",
            "Please enter what the month is as a number 1\n",
            "Please enter what the year is 2024\n",
            "2024-01-31 00:00:00\n",
            "2024\n",
            "01\n",
            "January\n",
            "05\n",
            "3\n",
            "031\n",
            "31\n",
            "Wednesday\n"
          ]
        }
      ]
    },
    {
      "cell_type": "markdown",
      "metadata": {
        "id": "_rpTIoSDaiBj"
      },
      "source": [
        "---\n",
        "### Exercise 8 - next 6 days\n",
        "\n",
        "Write a function that will take a date and generate the dates of the following 6 days.  It should print each of the 6 days in the form:  \n",
        "\n",
        "DAY OF THE WEEK, MONTH NAME, FULL YEAR\n",
        "\n",
        "Hint:  to generate the days, use the function datetime.timedelta(), there is a good example of its use [here](https://www.geeksforgeeks.org/python-datetime-timedelta-function/)  "
      ]
    },
    {
      "cell_type": "code",
      "metadata": {
        "id": "1d-oXqLLb0vX",
        "colab": {
          "base_uri": "https://localhost:8080/"
        },
        "outputId": "b70bed73-8897-4921-86c0-a2724229c82d"
      },
      "source": [
        "from datetime import datetime, timedelta\n",
        "\n",
        "day = int(input(\"Please enter the day \"))\n",
        "month = int(input(\"Please enter the month \"))\n",
        "year = int(input(\"Please enter the year \"))\n",
        "\n",
        "date = datetime(year, month, day)\n",
        "\n",
        "day1 = date + timedelta(days=1)\n",
        "day2 = date + timedelta(days=2)\n",
        "day3 = date + timedelta(days=3)\n",
        "day4 = date + timedelta(days=4)\n",
        "day5 = date + timedelta(days=5)\n",
        "day6 = date + timedelta(days=6)\n",
        "\n",
        "print(day1.strftime(\"%A\"), day1.strftime(\"%B\"), day1.strftime(\"%Y\"))\n",
        "print(day2.strftime(\"%A\"), day2.strftime(\"%B\"), day2.strftime(\"%Y\"))\n",
        "print(day3.strftime(\"%A\"), day3.strftime(\"%B\"), day3.strftime(\"%Y\"))\n",
        "print(day4.strftime(\"%A\"), day4.strftime(\"%B\"), day4.strftime(\"%Y\"))\n",
        "print(day5.strftime(\"%A\"), day5.strftime(\"%B\"), day5.strftime(\"%Y\"))\n",
        "print(day6.strftime(\"%A\"), day6.strftime(\"%B\"), day6.strftime(\"%Y\"))\n",
        "\n",
        "\n"
      ],
      "execution_count": 51,
      "outputs": [
        {
          "output_type": "stream",
          "name": "stdout",
          "text": [
            "Please enter the day 31\n",
            "Please enter the month 1\n",
            "Please enter the year 2024\n",
            "Thursday February 2024\n",
            "Friday February 2024\n",
            "Saturday February 2024\n",
            "Sunday February 2024\n",
            "Monday February 2024\n",
            "Tuesday February 2024\n"
          ]
        }
      ]
    },
    {
      "cell_type": "markdown",
      "metadata": {
        "id": "22Rhwx2Sb1Ey"
      },
      "source": [
        "---\n",
        "### Optional extra practice\n",
        "\n",
        "There are some similar and some more challenging exercises [here](https://www.w3resource.com/python-exercises/date-time-exercise/) if you would like to practice more. The site has its own editor."
      ]
    }
  ]
}